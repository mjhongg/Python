{
 "cells": [
  {
   "cell_type": "code",
   "execution_count": 1,
   "id": "6927ed5e-90cb-45f2-98c7-24d44deb1eb4",
   "metadata": {},
   "outputs": [],
   "source": [
    "import pandas as pd"
   ]
  },
  {
   "cell_type": "code",
   "execution_count": 21,
   "id": "3541196e-ab34-46f1-b7f8-16ba13b8e70b",
   "metadata": {},
   "outputs": [],
   "source": [
    "use_log = pd.read_csv('use_log.csv')\n",
    "customer = pd.read_csv('customer_master.csv')\n",
    "classs = pd.read_csv('class_master.csv')\n",
    "campaign = pd.read_csv('campaign_master.csv')"
   ]
  },
  {
   "cell_type": "code",
   "execution_count": 22,
   "id": "c9464104-2199-402a-9b46-0584f7099a80",
   "metadata": {},
   "outputs": [
    {
     "data": {
      "text/html": [
       "<div>\n",
       "<style scoped>\n",
       "    .dataframe tbody tr th:only-of-type {\n",
       "        vertical-align: middle;\n",
       "    }\n",
       "\n",
       "    .dataframe tbody tr th {\n",
       "        vertical-align: top;\n",
       "    }\n",
       "\n",
       "    .dataframe thead th {\n",
       "        text-align: right;\n",
       "    }\n",
       "</style>\n",
       "<table border=\"1\" class=\"dataframe\">\n",
       "  <thead>\n",
       "    <tr style=\"text-align: right;\">\n",
       "      <th></th>\n",
       "      <th>log_id</th>\n",
       "      <th>customer_id</th>\n",
       "      <th>usedate</th>\n",
       "    </tr>\n",
       "  </thead>\n",
       "  <tbody>\n",
       "    <tr>\n",
       "      <th>0</th>\n",
       "      <td>L00000049012330</td>\n",
       "      <td>AS009373</td>\n",
       "      <td>2018-04-01</td>\n",
       "    </tr>\n",
       "    <tr>\n",
       "      <th>1</th>\n",
       "      <td>L00000049012331</td>\n",
       "      <td>AS015315</td>\n",
       "      <td>2018-04-01</td>\n",
       "    </tr>\n",
       "    <tr>\n",
       "      <th>2</th>\n",
       "      <td>L00000049012332</td>\n",
       "      <td>AS040841</td>\n",
       "      <td>2018-04-01</td>\n",
       "    </tr>\n",
       "    <tr>\n",
       "      <th>3</th>\n",
       "      <td>L00000049012333</td>\n",
       "      <td>AS046594</td>\n",
       "      <td>2018-04-01</td>\n",
       "    </tr>\n",
       "    <tr>\n",
       "      <th>4</th>\n",
       "      <td>L00000049012334</td>\n",
       "      <td>AS073285</td>\n",
       "      <td>2018-04-01</td>\n",
       "    </tr>\n",
       "  </tbody>\n",
       "</table>\n",
       "</div>"
      ],
      "text/plain": [
       "            log_id customer_id     usedate\n",
       "0  L00000049012330    AS009373  2018-04-01\n",
       "1  L00000049012331    AS015315  2018-04-01\n",
       "2  L00000049012332    AS040841  2018-04-01\n",
       "3  L00000049012333    AS046594  2018-04-01\n",
       "4  L00000049012334    AS073285  2018-04-01"
      ]
     },
     "execution_count": 22,
     "metadata": {},
     "output_type": "execute_result"
    }
   ],
   "source": [
    "use_log.head()"
   ]
  },
  {
   "cell_type": "code",
   "execution_count": 23,
   "id": "d310051b-da29-499c-b058-4a755a6bc231",
   "metadata": {},
   "outputs": [
    {
     "data": {
      "text/plain": [
       "(197428, 3)"
      ]
     },
     "execution_count": 23,
     "metadata": {},
     "output_type": "execute_result"
    }
   ],
   "source": [
    "use_log.shape"
   ]
  },
  {
   "cell_type": "code",
   "execution_count": 24,
   "id": "f05e4b1c-14f4-4879-87ab-fcc7b12ec11e",
   "metadata": {},
   "outputs": [
    {
     "data": {
      "text/html": [
       "<div>\n",
       "<style scoped>\n",
       "    .dataframe tbody tr th:only-of-type {\n",
       "        vertical-align: middle;\n",
       "    }\n",
       "\n",
       "    .dataframe tbody tr th {\n",
       "        vertical-align: top;\n",
       "    }\n",
       "\n",
       "    .dataframe thead th {\n",
       "        text-align: right;\n",
       "    }\n",
       "</style>\n",
       "<table border=\"1\" class=\"dataframe\">\n",
       "  <thead>\n",
       "    <tr style=\"text-align: right;\">\n",
       "      <th></th>\n",
       "      <th>customer_id</th>\n",
       "      <th>name</th>\n",
       "      <th>class</th>\n",
       "      <th>gender</th>\n",
       "      <th>start_date</th>\n",
       "      <th>end_date</th>\n",
       "      <th>campaign_id</th>\n",
       "      <th>is_deleted</th>\n",
       "    </tr>\n",
       "  </thead>\n",
       "  <tbody>\n",
       "    <tr>\n",
       "      <th>0</th>\n",
       "      <td>OA832399</td>\n",
       "      <td>XXXX</td>\n",
       "      <td>C01</td>\n",
       "      <td>F</td>\n",
       "      <td>2015-05-01 00:00:00</td>\n",
       "      <td>NaN</td>\n",
       "      <td>CA1</td>\n",
       "      <td>0</td>\n",
       "    </tr>\n",
       "    <tr>\n",
       "      <th>1</th>\n",
       "      <td>PL270116</td>\n",
       "      <td>XXXXX</td>\n",
       "      <td>C01</td>\n",
       "      <td>M</td>\n",
       "      <td>2015-05-01 00:00:00</td>\n",
       "      <td>NaN</td>\n",
       "      <td>CA1</td>\n",
       "      <td>0</td>\n",
       "    </tr>\n",
       "    <tr>\n",
       "      <th>2</th>\n",
       "      <td>OA974876</td>\n",
       "      <td>XXXXX</td>\n",
       "      <td>C01</td>\n",
       "      <td>M</td>\n",
       "      <td>2015-05-01 00:00:00</td>\n",
       "      <td>NaN</td>\n",
       "      <td>CA1</td>\n",
       "      <td>0</td>\n",
       "    </tr>\n",
       "    <tr>\n",
       "      <th>3</th>\n",
       "      <td>HD024127</td>\n",
       "      <td>XXXXX</td>\n",
       "      <td>C01</td>\n",
       "      <td>F</td>\n",
       "      <td>2015-05-01 00:00:00</td>\n",
       "      <td>NaN</td>\n",
       "      <td>CA1</td>\n",
       "      <td>0</td>\n",
       "    </tr>\n",
       "    <tr>\n",
       "      <th>4</th>\n",
       "      <td>HD661448</td>\n",
       "      <td>XXXXX</td>\n",
       "      <td>C03</td>\n",
       "      <td>F</td>\n",
       "      <td>2015-05-01 00:00:00</td>\n",
       "      <td>NaN</td>\n",
       "      <td>CA1</td>\n",
       "      <td>0</td>\n",
       "    </tr>\n",
       "  </tbody>\n",
       "</table>\n",
       "</div>"
      ],
      "text/plain": [
       "  customer_id   name class gender           start_date end_date campaign_id  \\\n",
       "0    OA832399   XXXX   C01      F  2015-05-01 00:00:00      NaN         CA1   \n",
       "1    PL270116  XXXXX   C01      M  2015-05-01 00:00:00      NaN         CA1   \n",
       "2    OA974876  XXXXX   C01      M  2015-05-01 00:00:00      NaN         CA1   \n",
       "3    HD024127  XXXXX   C01      F  2015-05-01 00:00:00      NaN         CA1   \n",
       "4    HD661448  XXXXX   C03      F  2015-05-01 00:00:00      NaN         CA1   \n",
       "\n",
       "   is_deleted  \n",
       "0           0  \n",
       "1           0  \n",
       "2           0  \n",
       "3           0  \n",
       "4           0  "
      ]
     },
     "execution_count": 24,
     "metadata": {},
     "output_type": "execute_result"
    }
   ],
   "source": [
    "customer.head()"
   ]
  },
  {
   "cell_type": "code",
   "execution_count": 25,
   "id": "081a09cc-cd8d-4ff9-b454-52a1671ab821",
   "metadata": {},
   "outputs": [
    {
     "data": {
      "text/plain": [
       "(4192, 8)"
      ]
     },
     "execution_count": 25,
     "metadata": {},
     "output_type": "execute_result"
    }
   ],
   "source": [
    "customer.shape"
   ]
  },
  {
   "cell_type": "code",
   "execution_count": 27,
   "id": "1ed4c1da-944d-46e6-b9b5-62d7d19bb9f2",
   "metadata": {},
   "outputs": [
    {
     "data": {
      "text/html": [
       "<div>\n",
       "<style scoped>\n",
       "    .dataframe tbody tr th:only-of-type {\n",
       "        vertical-align: middle;\n",
       "    }\n",
       "\n",
       "    .dataframe tbody tr th {\n",
       "        vertical-align: top;\n",
       "    }\n",
       "\n",
       "    .dataframe thead th {\n",
       "        text-align: right;\n",
       "    }\n",
       "</style>\n",
       "<table border=\"1\" class=\"dataframe\">\n",
       "  <thead>\n",
       "    <tr style=\"text-align: right;\">\n",
       "      <th></th>\n",
       "      <th>class</th>\n",
       "      <th>class_name</th>\n",
       "      <th>price</th>\n",
       "    </tr>\n",
       "  </thead>\n",
       "  <tbody>\n",
       "    <tr>\n",
       "      <th>0</th>\n",
       "      <td>C01</td>\n",
       "      <td>0_종일</td>\n",
       "      <td>10500</td>\n",
       "    </tr>\n",
       "    <tr>\n",
       "      <th>1</th>\n",
       "      <td>C02</td>\n",
       "      <td>1_주간</td>\n",
       "      <td>7500</td>\n",
       "    </tr>\n",
       "    <tr>\n",
       "      <th>2</th>\n",
       "      <td>C03</td>\n",
       "      <td>2_야간</td>\n",
       "      <td>6000</td>\n",
       "    </tr>\n",
       "  </tbody>\n",
       "</table>\n",
       "</div>"
      ],
      "text/plain": [
       "  class class_name  price\n",
       "0   C01       0_종일  10500\n",
       "1   C02       1_주간   7500\n",
       "2   C03       2_야간   6000"
      ]
     },
     "execution_count": 27,
     "metadata": {},
     "output_type": "execute_result"
    }
   ],
   "source": [
    "classs.head()"
   ]
  },
  {
   "cell_type": "code",
   "execution_count": 28,
   "id": "4813ac74-65e4-41e7-b7ca-4aac5decacf5",
   "metadata": {},
   "outputs": [
    {
     "data": {
      "text/plain": [
       "(3, 3)"
      ]
     },
     "execution_count": 28,
     "metadata": {},
     "output_type": "execute_result"
    }
   ],
   "source": [
    "classs.shape"
   ]
  },
  {
   "cell_type": "code",
   "execution_count": 29,
   "id": "38709315-0195-4f2d-a409-3cdd5f72ddea",
   "metadata": {},
   "outputs": [
    {
     "data": {
      "text/html": [
       "<div>\n",
       "<style scoped>\n",
       "    .dataframe tbody tr th:only-of-type {\n",
       "        vertical-align: middle;\n",
       "    }\n",
       "\n",
       "    .dataframe tbody tr th {\n",
       "        vertical-align: top;\n",
       "    }\n",
       "\n",
       "    .dataframe thead th {\n",
       "        text-align: right;\n",
       "    }\n",
       "</style>\n",
       "<table border=\"1\" class=\"dataframe\">\n",
       "  <thead>\n",
       "    <tr style=\"text-align: right;\">\n",
       "      <th></th>\n",
       "      <th>campaign_id</th>\n",
       "      <th>campaign_name</th>\n",
       "    </tr>\n",
       "  </thead>\n",
       "  <tbody>\n",
       "    <tr>\n",
       "      <th>0</th>\n",
       "      <td>CA1</td>\n",
       "      <td>2_일반</td>\n",
       "    </tr>\n",
       "    <tr>\n",
       "      <th>1</th>\n",
       "      <td>CA2</td>\n",
       "      <td>0_입회비반액할인</td>\n",
       "    </tr>\n",
       "    <tr>\n",
       "      <th>2</th>\n",
       "      <td>CA3</td>\n",
       "      <td>1_입회비무료</td>\n",
       "    </tr>\n",
       "  </tbody>\n",
       "</table>\n",
       "</div>"
      ],
      "text/plain": [
       "  campaign_id campaign_name\n",
       "0         CA1          2_일반\n",
       "1         CA2     0_입회비반액할인\n",
       "2         CA3       1_입회비무료"
      ]
     },
     "execution_count": 29,
     "metadata": {},
     "output_type": "execute_result"
    }
   ],
   "source": [
    "campaign.head()"
   ]
  },
  {
   "cell_type": "code",
   "execution_count": 30,
   "id": "259346a0-c645-4561-b68c-2a4b5a4fbf39",
   "metadata": {},
   "outputs": [
    {
     "data": {
      "text/plain": [
       "(3, 2)"
      ]
     },
     "execution_count": 30,
     "metadata": {},
     "output_type": "execute_result"
    }
   ],
   "source": [
    "campaign.shape"
   ]
  },
  {
   "cell_type": "code",
   "execution_count": null,
   "id": "be3f70c4-d41b-4203-abec-990620e2326c",
   "metadata": {},
   "outputs": [],
   "source": []
  }
 ],
 "metadata": {
  "kernelspec": {
   "display_name": "Python 3 (ipykernel)",
   "language": "python",
   "name": "python3"
  },
  "language_info": {
   "codemirror_mode": {
    "name": "ipython",
    "version": 3
   },
   "file_extension": ".py",
   "mimetype": "text/x-python",
   "name": "python",
   "nbconvert_exporter": "python",
   "pygments_lexer": "ipython3",
   "version": "3.9.12"
  }
 },
 "nbformat": 4,
 "nbformat_minor": 5
}
